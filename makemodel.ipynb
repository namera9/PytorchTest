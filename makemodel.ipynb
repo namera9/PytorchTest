{
 "cells": [
  {
   "cell_type": "code",
   "execution_count": 17,
   "id": "initial_id",
   "metadata": {
    "collapsed": true,
    "ExecuteTime": {
     "end_time": "2023-12-22T14:20:15.697508900Z",
     "start_time": "2023-12-22T14:20:15.694338600Z"
    }
   },
   "outputs": [],
   "source": [
    "import torch\n",
    "import sasctl.pzmm as pzmm\n",
    "import sasctl\n",
    "from sasctl import Session\n",
    "import torch.nn as nn\n",
    "import torch.optim as optim\n",
    "from torch.utils.data import DataLoader, TensorDataset\n",
    "from sklearn.model_selection import train_test_split\n",
    "import pandas as pd\n",
    "import numpy as np\n",
    "import getpass\n",
    "import os"
   ]
  },
  {
   "cell_type": "code",
   "execution_count": 2,
   "outputs": [],
   "source": [
    "# Generate a sample pandas DataFrame\n",
    "data = {'feature1': np.random.rand(100),\n",
    "        'feature2': np.random.rand(100),\n",
    "        'target': np.random.choice([1, 2], size=100)}"
   ],
   "metadata": {
    "collapsed": false,
    "ExecuteTime": {
     "end_time": "2023-12-21T13:49:05.481450500Z",
     "start_time": "2023-12-21T13:49:05.466315600Z"
    }
   },
   "id": "bf5b17b53464f4c"
  },
  {
   "cell_type": "code",
   "execution_count": 3,
   "outputs": [],
   "source": [
    "df = pd.DataFrame(data)\n",
    "\n",
    "# Split the data into features and target\n",
    "X = df[['feature1', 'feature2']].values\n",
    "y = (df['target'] == 1).astype(int).values  # Convert to binary classification"
   ],
   "metadata": {
    "collapsed": false,
    "ExecuteTime": {
     "end_time": "2023-12-21T13:49:08.433651300Z",
     "start_time": "2023-12-21T13:49:08.411352200Z"
    }
   },
   "id": "d7558e586ed608af"
  },
  {
   "cell_type": "code",
   "execution_count": 4,
   "outputs": [],
   "source": [
    "# Split the data into training and testing sets\n",
    "X_train, X_test, y_train, y_test = train_test_split(X, y, test_size=0.2, random_state=42)"
   ],
   "metadata": {
    "collapsed": false,
    "ExecuteTime": {
     "end_time": "2023-12-21T13:49:10.686916400Z",
     "start_time": "2023-12-21T13:49:10.671903200Z"
    }
   },
   "id": "eddbd6306b248002"
  },
  {
   "cell_type": "code",
   "execution_count": 5,
   "outputs": [],
   "source": [
    "# Convert data to PyTorch tensors\n",
    "X_train_tensor = torch.tensor(X_train, dtype=torch.float32)\n",
    "y_train_tensor = torch.tensor(y_train, dtype=torch.float32)\n",
    "X_test_tensor = torch.tensor(X_test, dtype=torch.float32)\n",
    "y_test_tensor = torch.tensor(y_test, dtype=torch.float32)"
   ],
   "metadata": {
    "collapsed": false,
    "ExecuteTime": {
     "end_time": "2023-12-21T13:49:13.623485900Z",
     "start_time": "2023-12-21T13:49:13.606502800Z"
    }
   },
   "id": "fe0dd341ec2f0a81"
  },
  {
   "cell_type": "code",
   "execution_count": 6,
   "outputs": [],
   "source": [
    "# Define a simple neural network model\n",
    "class BinaryClassificationModel(nn.Module):\n",
    "    def __init__(self, input_size):\n",
    "        super(BinaryClassificationModel, self).__init__()\n",
    "        self.fc = nn.Linear(input_size, 1)\n",
    "        self.sigmoid = nn.Sigmoid()\n",
    "\n",
    "    def forward(self, x):\n",
    "        x = self.fc(x)\n",
    "        x = self.sigmoid(x)\n",
    "        return x"
   ],
   "metadata": {
    "collapsed": false,
    "ExecuteTime": {
     "end_time": "2023-12-21T13:49:16.592882700Z",
     "start_time": "2023-12-21T13:49:16.587027100Z"
    }
   },
   "id": "adac136deef5499c"
  },
  {
   "cell_type": "code",
   "execution_count": 7,
   "outputs": [],
   "source": [
    "# Instantiate the model and define loss function and optimizer\n",
    "input_size = X_train.shape[1]\n",
    "model = BinaryClassificationModel(input_size)\n",
    "criterion = nn.BCELoss()\n",
    "optimizer = optim.SGD(model.parameters(), lr=0.01)"
   ],
   "metadata": {
    "collapsed": false,
    "ExecuteTime": {
     "end_time": "2023-12-21T13:49:21.133429100Z",
     "start_time": "2023-12-21T13:49:19.588866500Z"
    }
   },
   "id": "a95171267f8d31e7"
  },
  {
   "cell_type": "code",
   "execution_count": 8,
   "outputs": [
    {
     "name": "stdout",
     "output_type": "stream",
     "text": [
      "Epoch [100/1000], Loss: 0.6903\n",
      "Epoch [200/1000], Loss: 0.6899\n",
      "Epoch [300/1000], Loss: 0.6895\n",
      "Epoch [400/1000], Loss: 0.6892\n",
      "Epoch [500/1000], Loss: 0.6888\n",
      "Epoch [600/1000], Loss: 0.6885\n",
      "Epoch [700/1000], Loss: 0.6882\n",
      "Epoch [800/1000], Loss: 0.6879\n",
      "Epoch [900/1000], Loss: 0.6876\n",
      "Epoch [1000/1000], Loss: 0.6874\n"
     ]
    }
   ],
   "source": [
    "# Training loop\n",
    "epochs = 1000\n",
    "for epoch in range(epochs):\n",
    "    # Forward pass\n",
    "    outputs = model(X_train_tensor)\n",
    "    loss = criterion(outputs, y_train_tensor.view(-1, 1))\n",
    "\n",
    "    # Backward pass and optimization\n",
    "    optimizer.zero_grad()\n",
    "    loss.backward()\n",
    "    optimizer.step()\n",
    "\n",
    "    if (epoch + 1) % 100 == 0:\n",
    "        print(f'Epoch [{epoch+1}/{epochs}], Loss: {loss.item():.4f}')\n"
   ],
   "metadata": {
    "collapsed": false,
    "ExecuteTime": {
     "end_time": "2023-12-21T13:49:25.214180700Z",
     "start_time": "2023-12-21T13:49:24.702616500Z"
    }
   },
   "id": "cbbf0f5633a282a1"
  },
  {
   "cell_type": "code",
   "execution_count": 9,
   "outputs": [
    {
     "name": "stdout",
     "output_type": "stream",
     "text": [
      "Model saved successfully!\n"
     ]
    }
   ],
   "source": [
    "# Save the trained model\n",
    "torch.save(model.state_dict(), 'binaryclassification.pt')\n",
    "print(\"Model saved successfully!\")"
   ],
   "metadata": {
    "collapsed": false,
    "ExecuteTime": {
     "end_time": "2023-12-21T13:49:31.262550400Z",
     "start_time": "2023-12-21T13:49:31.249245800Z"
    }
   },
   "id": "c2c5500dbae9c7df"
  },
  {
   "cell_type": "code",
   "execution_count": 20,
   "outputs": [],
   "source": [
    "#Define the model file name and model name\n",
    "prefixModelFile = 'myProject_'\n",
    "model_name = prefixModelFile + 'myModel'"
   ],
   "metadata": {
    "collapsed": false,
    "ExecuteTime": {
     "end_time": "2023-12-22T14:24:35.338124800Z",
     "start_time": "2023-12-22T14:24:35.330617900Z"
    }
   },
   "id": "5495a70c87e3e808"
  },
  {
   "cell_type": "code",
   "execution_count": null,
   "outputs": [],
   "source": [
    "#Connect to specified server (EDM LATEST) ##CHANGE THIS BEFORE PUBLISH\n",
    "server = 'edmlatest.ingress-nginx.edmtest-m1.edm.sashq-d.openstack.sas.com'\n",
    "user = 'edmdev'\n",
    "\n",
    "print('Password for the Server:')\n",
    "p = getpass.getpass()"
   ],
   "metadata": {
    "collapsed": false
   },
   "id": "83d7d9499e394189"
  },
  {
   "cell_type": "code",
   "execution_count": 15,
   "outputs": [
    {
     "name": "stdout",
     "output_type": "stream",
     "text": [
      "       name dataType   role  rank\n",
      "0  feature1   double  input     1\n",
      "1  feature2   double  input     2\n",
      "         name dataType    role  rank\n",
      "0  prediction   double  output     1\n"
     ]
    }
   ],
   "source": [
    "# Input variables\n",
    "inputVar = pd.DataFrame({'feature1': ['msg' * 33333], 'feature2': ['msg' * 33333]})\n",
    "sasctl.pzmm.write_json_files.JSONFiles().write_var_json(input_data=inputVar, is_input=True)\n",
    "inputVarJSON = pd.read_json(\"inputVar.json\")\n",
    "print(inputVarJSON)\n",
    "\n",
    "# Output variables\n",
    "outputVar = pd.DataFrame({'prediction': ['msg' * 90], 'msg': ['msg' * 90]})\n",
    "sasctl.pzmm.write_json_files.JSONFiles().write_var_json(input_data=outputVar, is_input=False)\n",
    "outputVarJSON = pd.read_json(\"outputVar.json\")\n",
    "print(outputVarJSON)\n"
   ],
   "metadata": {
    "collapsed": false,
    "ExecuteTime": {
     "end_time": "2023-12-22T14:10:10.438930800Z",
     "start_time": "2023-12-22T14:10:10.385683700Z"
    }
   },
   "id": "41b0bd6d270a436b"
  },
  {
   "cell_type": "code",
   "execution_count": null,
   "outputs": [],
   "source": [
    "# Define Input Output Variables and types for SAS Model Manager\n",
    "project_input_variables = list(pd.DataFrame.to_dict(inputVarJSON.transpose()).values())\n",
    "for var in project_input_variables:\n",
    "    var[\"role\"] = \"input\"\n",
    "project_output_variables = list(pd.DataFrame.to_dict(outputVarJSON.transpose()).values())\n",
    "for var in project_output_variables:\n",
    "    var[\"role\"] = \"output\"\n",
    "project_variables = project_input_variables + project_output_variables"
   ],
   "metadata": {
    "collapsed": false
   },
   "id": "3b1fe8eb9b36e17b"
  },
  {
   "cell_type": "code",
   "execution_count": 21,
   "outputs": [
    {
     "name": "stdout",
     "output_type": "stream",
     "text": [
      "Python file created at: C:\\pytorchtest\\myProject_myModel.py\n"
     ]
    }
   ],
   "source": [
    "score_code = \"\"\"\n",
    "import torch\n",
    "import torch.nn as nn\n",
    "import numpy as np\n",
    "\n",
    "# Define the BinaryClassificationModel class\n",
    "class BinaryClassificationModel(nn.Module):\n",
    "    def __init__(self, input_size):\n",
    "        super(BinaryClassificationModel, self).__init__()\n",
    "        self.fc = nn.Linear(input_size, 1)\n",
    "        self.sigmoid = nn.Sigmoid()\n",
    "\n",
    "    def forward(self, x):\n",
    "        x = self.fc(x)\n",
    "        x = self.sigmoid(x)\n",
    "        return x\n",
    "\n",
    "# Load the saved model\n",
    "loaded_model = BinaryClassificationModel(input_size=2)\n",
    "loaded_model.load_state_dict(torch.load('binaryclassification.pt'))\n",
    "loaded_model.eval()\n",
    "\n",
    "# Function to score (make predictions) on new data\n",
    "def score_model(new_data):\n",
    "    new_data_tensor = torch.tensor(new_data, dtype=torch.float32)\n",
    "    with torch.no_grad():\n",
    "        predictions = loaded_model(new_data_tensor)\n",
    "        predicted_labels = (predictions >= 0.5).float().view(-1).numpy()\n",
    "    return predicted_labels\n",
    "\n",
    "# Generate random new data\n",
    "new_data = np.random.rand(10, 2)\n",
    "\n",
    "# Score the model on the new data\n",
    "predictions = score_model(new_data)\n",
    "\n",
    "# Print the predictions\n",
    "print(\"Predictions:\", predictions)\"\"\"\n",
    "\n",
    "current_directory = os.getcwd()\n",
    "\n",
    "# Specify the file path\n",
    "file_path = os.path.join(current_directory, f'{model_name}.py')\n",
    "\n",
    "# Open the file in write mode and write the score_code\n",
    "with open(file_path, 'w') as file:\n",
    "    file.write(score_code)\n",
    "\n",
    "print(f\"Python file created at: {file_path}\")"
   ],
   "metadata": {
    "collapsed": false,
    "ExecuteTime": {
     "end_time": "2023-12-22T14:24:41.267581500Z",
     "start_time": "2023-12-22T14:24:41.261283500Z"
    }
   },
   "id": "f4cbeab61c0ae78b"
  },
  {
   "cell_type": "code",
   "execution_count": 18,
   "outputs": [
    {
     "name": "stdout",
     "output_type": "stream",
     "text": [
      "Requirements file created at: C:\\pytorchtest\\requirements.json\n"
     ]
    }
   ],
   "source": [
    "requirements = \"\"\"[\n",
    "     {\n",
    "        \"step\":\"install pandas \",\n",
    "        \"command\":\"pip3 install pandas\"\n",
    "     },\n",
    "     {\n",
    "        \"step\":\"install base64 \",\n",
    "        \"command\":\"pip3 install pybase64\"\n",
    "     },\n",
    "     {\n",
    "        \"step\":\"install Pillow \",\n",
    "        \"command\":\"pip3 install Pillow\"\n",
    "     },\n",
    "     {\n",
    "        \"step\":\"install sasctl \",\n",
    "        \"command\":\"pip3 install sasctl\"\n",
    "     },\n",
    "     {\n",
    "        \"step\":\"install pytorch \",\n",
    "        \"command\":\"pip3 install torch torchvision torchaudio --extra-index-url https://download.pytorch.org/whl/cpu\"\n",
    "     }\n",
    "]\"\"\"\n",
    "# Specify the file path\n",
    "file_path = os.path.join(current_directory, 'requirements.json')\n",
    "\n",
    "# Open the file in write mode and write the requirements\n",
    "with open(file_path, 'w') as file:\n",
    "    file.write(requirements)\n",
    "\n",
    "print(f\"Requirements file created at: {file_path}\")"
   ],
   "metadata": {
    "collapsed": false,
    "ExecuteTime": {
     "end_time": "2023-12-22T14:21:55.001718700Z",
     "start_time": "2023-12-22T14:21:54.991556200Z"
    }
   },
   "id": "34ae1c6348478c59"
  },
  {
   "cell_type": "code",
   "execution_count": 22,
   "outputs": [],
   "source": [
    "model_attr = dict()\n",
    "model_attr['name'] = model_name\n",
    "\n",
    "\n",
    "model_attr['toolVersion'] = '3.8.12'\n",
    "model_attr['eventProbVar'] = 'target'\n",
    "model_attr['targetLevel'] = 'BINARY'\n",
    "model_attr['trainCodeType'] = 'Python'\n",
    "\n",
    "\n",
    "project_name = 'pytorchproject'"
   ],
   "metadata": {
    "collapsed": false,
    "ExecuteTime": {
     "end_time": "2023-12-22T15:35:15.386106Z",
     "start_time": "2023-12-22T15:35:15.376567300Z"
    }
   },
   "id": "4b89d343e33d5850"
  },
  {
   "cell_type": "code",
   "execution_count": null,
   "outputs": [],
   "source": [
    "from sasctl import Session\n",
    "from sasctl.services import model_repository as modelRepo\n",
    "\n",
    "try:\n",
    "    # Establish a session with SAS Viya\n",
    "    with Session(server, user, p, verify_ssl=False, protocol='http') as s:\n",
    "        modelRepo.create_project(project=project_name, repository = 'Public', variables = project_variables,targetLevel = model_attr['targetLevel'],function='classification')\n",
    "except Exception as e:\n",
    "    print(e)"
   ],
   "metadata": {
    "collapsed": false
   },
   "id": "3c6599c4f520bfe8"
  },
  {
   "cell_type": "code",
   "execution_count": null,
   "outputs": [],
   "source": [
    "with Session(server, user, p, verify_ssl=False, protocol = 'http'):\n",
    "\n",
    "    project = modelRepo.get_project(project_name)\n",
    "    project['eventProbabilityVariable'] = model_attr['eventProbVar']\n",
    "    project = modelRepo.update_project(project)"
   ],
   "metadata": {
    "collapsed": false
   },
   "id": "680d80e2cb3c02af"
  },
  {
   "cell_type": "code",
   "execution_count": null,
   "outputs": [],
   "source": [
    "with Session(server, user, p, verify_ssl=False, protocol = 'http'):\n",
    "\n",
    "    modelRepo.create_model(model=model_attr,project=project_name, modeler= 'User1', function='classification', \n",
    "                    algorithm='Pytorch efficientnet', tool='Python 3', target_variable=model_attr['eventProbVar'],\n",
    "                    score_code_type= \"python\",\n",
    "                    input_variables=list(pd.DataFrame.to_dict(inputVarJSON.transpose()).values()),\n",
    "                    output_variables=list(pd.DataFrame.to_dict(outputVarJSON.transpose()).values()),\n",
    "                    is_champion=True)"
   ],
   "metadata": {
    "collapsed": false
   },
   "id": "8e245005bf7db22a"
  },
  {
   "cell_type": "code",
   "execution_count": null,
   "outputs": [],
   "source": [
    "# Establish a session with SAS Viya\n",
    "with Session(server, user, p, verify_ssl=False, protocol='http'):\n",
    "    modelRepo.add_model_content(model=model_name, file=score_code,\n",
    "                        name=model_name + '.py', role='score')\n",
    "   \n",
    "    # requirements for SCR environment\n",
    "    with open('requirements.json', 'rb') as file:\n",
    "        modelRepo.add_model_content(model=model_name, file=file,\n",
    "                             name='requirements.json', role='python pickle')\n",
    "    # saved list class names\n",
    "    with open('inputVar.json', 'rb') as file:\n",
    "        modelRepo.add_model_content(model=model_name, file=file,\n",
    "                             name='inputVar.json')\n",
    "    with open('outputVar.json', 'rb') as file:\n",
    "        modelRepo.add_model_content(model=model_name, file=file,\n",
    "                             name='outputVar.json')\n",
    "    #saved model in current directory\n",
    "    with open('binaryclassification.pt', 'rb') as file:\n",
    "        modelRepo.add_model_content(model=model_name, file=file,\n",
    "                             name='simple_food_model.pt', role='Python pickle')\n",
    "    "
   ],
   "metadata": {
    "collapsed": false
   },
   "id": "2d6ffbee978fe8a2"
  },
  {
   "cell_type": "code",
   "execution_count": null,
   "outputs": [],
   "source": [
    "from sasctl.services import model_management as mm\n",
    "# Establish a session with SAS Viya\n",
    "with Session(server, user, p, verify_ssl=False, protocol = 'http') as s:\n",
    "    # Publish the model to the azure registry with git repo\n",
    "    module = mm.publish_model(model_name, destination='scrInternal', force=True)"
   ],
   "metadata": {
    "collapsed": false
   },
   "id": "1185f405aaab9ac1"
  },
  {
   "cell_type": "code",
   "execution_count": 10,
   "outputs": [],
   "source": [
    "# Evaluate the model on the test set\n",
    "model.eval()\n",
    "with torch.no_grad():\n",
    "    predictions = model(X_test_tensor)\n",
    "    predicted_labels = (predictions >= 0.5).float().view(-1).numpy()"
   ],
   "metadata": {
    "collapsed": false,
    "ExecuteTime": {
     "end_time": "2023-12-21T13:49:41.854202400Z",
     "start_time": "2023-12-21T13:49:41.842091600Z"
    }
   },
   "id": "c9d5ac33d5185fba"
  },
  {
   "cell_type": "code",
   "execution_count": 11,
   "outputs": [
    {
     "name": "stdout",
     "output_type": "stream",
     "text": [
      "Test Accuracy: 0.4500\n"
     ]
    }
   ],
   "source": [
    "accuracy = np.mean(predicted_labels == y_test)\n",
    "print(f'Test Accuracy: {accuracy:.4f}')"
   ],
   "metadata": {
    "collapsed": false,
    "ExecuteTime": {
     "end_time": "2023-12-21T13:49:45.006247200Z",
     "start_time": "2023-12-21T13:49:44.999714400Z"
    }
   },
   "id": "882ef58732e69033"
  }
 ],
 "metadata": {
  "kernelspec": {
   "display_name": "Python 3",
   "language": "python",
   "name": "python3"
  },
  "language_info": {
   "codemirror_mode": {
    "name": "ipython",
    "version": 2
   },
   "file_extension": ".py",
   "mimetype": "text/x-python",
   "name": "python",
   "nbconvert_exporter": "python",
   "pygments_lexer": "ipython2",
   "version": "2.7.6"
  }
 },
 "nbformat": 4,
 "nbformat_minor": 5
}
