{
 "cells": [
  {
   "cell_type": "code",
   "execution_count": 1,
   "id": "initial_id",
   "metadata": {
    "collapsed": true,
    "ExecuteTime": {
     "end_time": "2023-12-21T13:48:52.000355200Z",
     "start_time": "2023-12-21T13:48:44.189646500Z"
    }
   },
   "outputs": [],
   "source": [
    "import torch\n",
    "import torch.nn as nn\n",
    "import torch.optim as optim\n",
    "from torch.utils.data import DataLoader, TensorDataset\n",
    "from sklearn.model_selection import train_test_split\n",
    "import pandas as pd\n",
    "import numpy as np"
   ]
  },
  {
   "cell_type": "code",
   "execution_count": 2,
   "outputs": [],
   "source": [
    "# Generate a sample pandas DataFrame\n",
    "data = {'feature1': np.random.rand(100),\n",
    "        'feature2': np.random.rand(100),\n",
    "        'target': np.random.choice([1, 2], size=100)}"
   ],
   "metadata": {
    "collapsed": false,
    "ExecuteTime": {
     "end_time": "2023-12-21T13:49:05.481450500Z",
     "start_time": "2023-12-21T13:49:05.466315600Z"
    }
   },
   "id": "bf5b17b53464f4c"
  },
  {
   "cell_type": "code",
   "execution_count": 3,
   "outputs": [],
   "source": [
    "df = pd.DataFrame(data)\n",
    "\n",
    "# Split the data into features and target\n",
    "X = df[['feature1', 'feature2']].values\n",
    "y = (df['target'] == 1).astype(int).values  # Convert to binary classification"
   ],
   "metadata": {
    "collapsed": false,
    "ExecuteTime": {
     "end_time": "2023-12-21T13:49:08.433651300Z",
     "start_time": "2023-12-21T13:49:08.411352200Z"
    }
   },
   "id": "d7558e586ed608af"
  },
  {
   "cell_type": "code",
   "execution_count": 4,
   "outputs": [],
   "source": [
    "# Split the data into training and testing sets\n",
    "X_train, X_test, y_train, y_test = train_test_split(X, y, test_size=0.2, random_state=42)"
   ],
   "metadata": {
    "collapsed": false,
    "ExecuteTime": {
     "end_time": "2023-12-21T13:49:10.686916400Z",
     "start_time": "2023-12-21T13:49:10.671903200Z"
    }
   },
   "id": "eddbd6306b248002"
  },
  {
   "cell_type": "code",
   "execution_count": 5,
   "outputs": [],
   "source": [
    "# Convert data to PyTorch tensors\n",
    "X_train_tensor = torch.tensor(X_train, dtype=torch.float32)\n",
    "y_train_tensor = torch.tensor(y_train, dtype=torch.float32)\n",
    "X_test_tensor = torch.tensor(X_test, dtype=torch.float32)\n",
    "y_test_tensor = torch.tensor(y_test, dtype=torch.float32)"
   ],
   "metadata": {
    "collapsed": false,
    "ExecuteTime": {
     "end_time": "2023-12-21T13:49:13.623485900Z",
     "start_time": "2023-12-21T13:49:13.606502800Z"
    }
   },
   "id": "fe0dd341ec2f0a81"
  },
  {
   "cell_type": "code",
   "execution_count": 6,
   "outputs": [],
   "source": [
    "# Define a simple neural network model\n",
    "class BinaryClassificationModel(nn.Module):\n",
    "    def __init__(self, input_size):\n",
    "        super(BinaryClassificationModel, self).__init__()\n",
    "        self.fc = nn.Linear(input_size, 1)\n",
    "        self.sigmoid = nn.Sigmoid()\n",
    "\n",
    "    def forward(self, x):\n",
    "        x = self.fc(x)\n",
    "        x = self.sigmoid(x)\n",
    "        return x"
   ],
   "metadata": {
    "collapsed": false,
    "ExecuteTime": {
     "end_time": "2023-12-21T13:49:16.592882700Z",
     "start_time": "2023-12-21T13:49:16.587027100Z"
    }
   },
   "id": "adac136deef5499c"
  },
  {
   "cell_type": "code",
   "execution_count": 7,
   "outputs": [],
   "source": [
    "# Instantiate the model and define loss function and optimizer\n",
    "input_size = X_train.shape[1]\n",
    "model = BinaryClassificationModel(input_size)\n",
    "criterion = nn.BCELoss()\n",
    "optimizer = optim.SGD(model.parameters(), lr=0.01)"
   ],
   "metadata": {
    "collapsed": false,
    "ExecuteTime": {
     "end_time": "2023-12-21T13:49:21.133429100Z",
     "start_time": "2023-12-21T13:49:19.588866500Z"
    }
   },
   "id": "a95171267f8d31e7"
  },
  {
   "cell_type": "code",
   "execution_count": 8,
   "outputs": [
    {
     "name": "stdout",
     "output_type": "stream",
     "text": [
      "Epoch [100/1000], Loss: 0.6903\n",
      "Epoch [200/1000], Loss: 0.6899\n",
      "Epoch [300/1000], Loss: 0.6895\n",
      "Epoch [400/1000], Loss: 0.6892\n",
      "Epoch [500/1000], Loss: 0.6888\n",
      "Epoch [600/1000], Loss: 0.6885\n",
      "Epoch [700/1000], Loss: 0.6882\n",
      "Epoch [800/1000], Loss: 0.6879\n",
      "Epoch [900/1000], Loss: 0.6876\n",
      "Epoch [1000/1000], Loss: 0.6874\n"
     ]
    }
   ],
   "source": [
    "# Training loop\n",
    "epochs = 1000\n",
    "for epoch in range(epochs):\n",
    "    # Forward pass\n",
    "    outputs = model(X_train_tensor)\n",
    "    loss = criterion(outputs, y_train_tensor.view(-1, 1))\n",
    "\n",
    "    # Backward pass and optimization\n",
    "    optimizer.zero_grad()\n",
    "    loss.backward()\n",
    "    optimizer.step()\n",
    "\n",
    "    if (epoch + 1) % 100 == 0:\n",
    "        print(f'Epoch [{epoch+1}/{epochs}], Loss: {loss.item():.4f}')\n"
   ],
   "metadata": {
    "collapsed": false,
    "ExecuteTime": {
     "end_time": "2023-12-21T13:49:25.214180700Z",
     "start_time": "2023-12-21T13:49:24.702616500Z"
    }
   },
   "id": "cbbf0f5633a282a1"
  },
  {
   "cell_type": "code",
   "execution_count": 9,
   "outputs": [
    {
     "name": "stdout",
     "output_type": "stream",
     "text": [
      "Model saved successfully!\n"
     ]
    }
   ],
   "source": [
    "# Save the trained model\n",
    "torch.save(model.state_dict(), 'binaryclassification.pt')\n",
    "print(\"Model saved successfully!\")"
   ],
   "metadata": {
    "collapsed": false,
    "ExecuteTime": {
     "end_time": "2023-12-21T13:49:31.262550400Z",
     "start_time": "2023-12-21T13:49:31.249245800Z"
    }
   },
   "id": "c2c5500dbae9c7df"
  },
  {
   "cell_type": "code",
   "execution_count": 10,
   "outputs": [],
   "source": [
    "# Evaluate the model on the test set\n",
    "model.eval()\n",
    "with torch.no_grad():\n",
    "    predictions = model(X_test_tensor)\n",
    "    predicted_labels = (predictions >= 0.5).float().view(-1).numpy()"
   ],
   "metadata": {
    "collapsed": false,
    "ExecuteTime": {
     "end_time": "2023-12-21T13:49:41.854202400Z",
     "start_time": "2023-12-21T13:49:41.842091600Z"
    }
   },
   "id": "c9d5ac33d5185fba"
  },
  {
   "cell_type": "code",
   "execution_count": 11,
   "outputs": [
    {
     "name": "stdout",
     "output_type": "stream",
     "text": [
      "Test Accuracy: 0.4500\n"
     ]
    }
   ],
   "source": [
    "accuracy = np.mean(predicted_labels == y_test)\n",
    "print(f'Test Accuracy: {accuracy:.4f}')"
   ],
   "metadata": {
    "collapsed": false,
    "ExecuteTime": {
     "end_time": "2023-12-21T13:49:45.006247200Z",
     "start_time": "2023-12-21T13:49:44.999714400Z"
    }
   },
   "id": "882ef58732e69033"
  }
 ],
 "metadata": {
  "kernelspec": {
   "display_name": "Python 3",
   "language": "python",
   "name": "python3"
  },
  "language_info": {
   "codemirror_mode": {
    "name": "ipython",
    "version": 2
   },
   "file_extension": ".py",
   "mimetype": "text/x-python",
   "name": "python",
   "nbconvert_exporter": "python",
   "pygments_lexer": "ipython2",
   "version": "2.7.6"
  }
 },
 "nbformat": 4,
 "nbformat_minor": 5
}
